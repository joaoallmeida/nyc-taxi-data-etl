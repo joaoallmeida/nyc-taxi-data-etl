{
 "cells": [
  {
   "cell_type": "code",
   "execution_count": 2,
   "metadata": {},
   "outputs": [],
   "source": [
    "from dotenv import load_dotenv\n",
    "from bs4 import BeautifulSoup\n",
    "\n",
    "import requests\n",
    "import duckdb\n",
    "import polars as pl\n",
    "import os"
   ]
  },
  {
   "cell_type": "code",
   "execution_count": null,
   "metadata": {},
   "outputs": [],
   "source": [
    "load_dotenv(dotenv_path='/home/joao/projects/tlc-data-etl/src/config/.env')"
   ]
  },
  {
   "cell_type": "code",
   "execution_count": null,
   "metadata": {},
   "outputs": [],
   "source": [
    "URL_BASE = 'https://www.nyc.gov/site/tlc/about/tlc-trip-record-data.page'\n",
    "\n",
    "def _get_url_source_data_(source_name:str) -> list[dict]:\n",
    "    try:\n",
    "        response = requests.get(URL_BASE)\n",
    "        soup =  BeautifulSoup(response.text, 'html.parser')\n",
    "        records = [link.get('href').strip() for table in soup.find_all('table') for link in table.find_all('a') if link.get('title').replace(' ','-').lower() == source_name]\n",
    "    except Exception as e:\n",
    "        raise e\n",
    "\n",
    "    return records"
   ]
  },
  {
   "cell_type": "code",
   "execution_count": null,
   "metadata": {},
   "outputs": [],
   "source": [
    "_get_url_source_data_('yellow-taxi-trip-records')"
   ]
  },
  {
   "cell_type": "code",
   "execution_count": null,
   "metadata": {},
   "outputs": [],
   "source": [
    "ACCESS_KEY = os.environ['minio_access_key']\n",
    "SECRET_KEY = os.environ['minio_secret_key']\n",
    "ENDPOINT_URL = os.environ['minio_endpoint']\n",
    "\n",
    "options = {\n",
    "    'key': ACCESS_KEY,\n",
    "    'secret': SECRET_KEY,\n",
    "    'endpoint_url': ENDPOINT_URL\n",
    "}"
   ]
  },
  {
   "cell_type": "code",
   "execution_count": null,
   "metadata": {},
   "outputs": [],
   "source": [
    "# df = pl.read_parquet('s3://tlc-data-raw/green-taxi-trip-records/*.parquet', storage_options=options)"
   ]
  },
  {
   "cell_type": "code",
   "execution_count": null,
   "metadata": {},
   "outputs": [],
   "source": [
    "# df.filter((pl.col('tpep_pickup_datetime').dt.year() >= 2021) & (pl.col('VendorID') == 1)).sample(50)\n",
    "# df['VendorID'].unique()\n",
    "# df.tail()"
   ]
  },
  {
   "cell_type": "code",
   "execution_count": null,
   "metadata": {},
   "outputs": [],
   "source": [
    "conn = duckdb.connect()\n",
    "conn.install_extension('httpfs')\n",
    "conn.load_extension('httpfs')"
   ]
  },
  {
   "cell_type": "code",
   "execution_count": null,
   "metadata": {},
   "outputs": [],
   "source": [
    "conn.query(\"SET s3_url_style='path'\")\n",
    "conn.query(f\"SET s3_access_key_id='{ACCESS_KEY}'\")\n",
    "conn.query(f\"SET s3_secret_access_key='{SECRET_KEY}'\")\n",
    "conn.query(f\"SET s3_endpoint='minio.labserver.com.br:443'\")\n",
    "conn.query(\"CREATE SCHEMA raw\")"
   ]
  },
  {
   "cell_type": "code",
   "execution_count": null,
   "metadata": {},
   "outputs": [],
   "source": [
    "conn.query(\"CREATE TABLE test AS SELECT * FROM read_parquet('https://d37ci6vzurychx.cloudfront.net/trip-data/yellow_tripdata_2021-12.parquet')\")"
   ]
  },
  {
   "cell_type": "code",
   "execution_count": null,
   "metadata": {},
   "outputs": [],
   "source": [
    "pl.read_parquet('https://d37ci6vzurychx.cloudfront.net/trip-data/yellow_tripdata_2021-12.parquet')"
   ]
  },
  {
   "cell_type": "code",
   "execution_count": null,
   "metadata": {},
   "outputs": [],
   "source": [
    "# conn.query(\"COPY raw.green_tripdata_2023 TO 's3://tlc-data-raw/test/green_tripdata_2023-01.parquet' ( FORMAT PARQUET,OVERWRITE_OR_IGNORE true )\")"
   ]
  },
  {
   "cell_type": "code",
   "execution_count": null,
   "metadata": {},
   "outputs": [],
   "source": [
    "conn.query(\"DROP TABLE TEST\")\n",
    "# conn.query(\"DROP SCHEMA raw CASCADE\")"
   ]
  },
  {
   "cell_type": "code",
   "execution_count": null,
   "metadata": {},
   "outputs": [],
   "source": [
    "# conn.query(\"from duckdb_settings() where name like '%s3%'\")"
   ]
  },
  {
   "cell_type": "code",
   "execution_count": null,
   "metadata": {},
   "outputs": [],
   "source": [
    "# conn.query(f\"SELECT * FROM read_parquet('s3://tlc-data-raw/yellow-taxi-trip-records/*.parquet')\")"
   ]
  },
  {
   "cell_type": "code",
   "execution_count": 28,
   "metadata": {},
   "outputs": [],
   "source": [
    "config = {\n",
    "    \"data_source\": [\n",
    "        {\"source_name\":\"yellow-taxi-trip-records\", \"source_years\":[2021,2022,2023] },\n",
    "        {\"source_name\":\"green-taxi-trip-records\", \"source_years\":[2021,2022,2023] },\n",
    "        {\"source_name\":\"for-hire-vehicle-trip-records\", \"source_years\":[2021,2022,2023]}\n",
    "    ],\n",
    "    \"data_transform\": {\n",
    "        \"yellow-taxi-trip-records\" : {\n",
    "            'cast_columns': {'RatecodeID':pl.Int64,'passenger_count':pl.Int64}\n",
    "        },\n",
    "        \"green-taxi-trip-records\": {\n",
    "            'cast_columns': {'RatecodeID':pl.Int64,'passenger_count':pl.Int64,'ehail_fee':pl.Int64,'payment_type':pl.Int64 ,'trip_type': pl.Int64}\n",
    "        },\n",
    "        \"for-hire-vehicle-trip-records\" : {\n",
    "            'cast_columns': {'DOlocationID':pl.Int64,'PUlocationID':pl.Int64}\n",
    "        }\n",
    "    },\n",
    "    \"data_load\": {}\n",
    "}"
   ]
  },
  {
   "cell_type": "code",
   "execution_count": 45,
   "metadata": {},
   "outputs": [
    {
     "name": "stdout",
     "output_type": "stream",
     "text": [
      "yellow-taxi-trip-records [2021, 2022, 2023]\n"
     ]
    }
   ],
   "source": [
    "test = {\"data_source\": [\n",
    "    {\"source_name\":\"yellow-taxi-trip-records\", \"source_years\":[2021,2022,2023] },\n",
    "    {\"source_name\":\"green-taxi-trip-records\", \"source_years\":[2021,2022,2023] },\n",
    "    {\"source_name\":\"for-hire-vehicle-trip-records\", \"source_years\":[2021,2022,2023]}\n",
    "]}\n",
    "\n",
    "for a  in test['data_source']:\n",
    "    print(a['source_name'], a['source_years'])\n",
    "    break"
   ]
  },
  {
   "cell_type": "code",
   "execution_count": 51,
   "metadata": {},
   "outputs": [
    {
     "data": {
      "text/plain": [
       "[2021, 2022, 2023]"
      ]
     },
     "execution_count": 51,
     "metadata": {},
     "output_type": "execute_result"
    }
   ],
   "source": [
    "year_range = {\"from\": 2021, \"to\": 2023}\n",
    "\n",
    "target_year = 2022\n",
    "\n",
    "years_in_range = [year for year in range(year_range[\"from\"], year_range[\"to\"] + 1)]\n",
    "years_in_range"
   ]
  }
 ],
 "metadata": {
  "kernelspec": {
   "display_name": ".venv",
   "language": "python",
   "name": "python3"
  },
  "language_info": {
   "codemirror_mode": {
    "name": "ipython",
    "version": 3
   },
   "file_extension": ".py",
   "mimetype": "text/x-python",
   "name": "python",
   "nbconvert_exporter": "python",
   "pygments_lexer": "ipython3",
   "version": "3.10.12"
  }
 },
 "nbformat": 4,
 "nbformat_minor": 2
}
